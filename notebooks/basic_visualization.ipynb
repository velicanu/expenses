{
 "cells": [
  {
   "cell_type": "code",
   "execution_count": 1,
   "metadata": {},
   "outputs": [],
   "source": [
    "import matplotlib.pyplot as plt\n",
    "import numpy as np\n",
    "import pandas as pd\n",
    "import seaborn as sns"
   ]
  },
  {
   "cell_type": "code",
   "execution_count": 2,
   "metadata": {},
   "outputs": [],
   "source": [
    "import sys\n",
    "sys.path.append('../src/') # TODO: make installable package so modules can be imported easily outside of CLI scripts"
   ]
  },
  {
   "cell_type": "code",
   "execution_count": 3,
   "metadata": {},
   "outputs": [],
   "source": [
    "from record import CardRecord"
   ]
  },
  {
   "cell_type": "code",
   "execution_count": 4,
   "metadata": {},
   "outputs": [],
   "source": [
    "cr = CardRecord(\"/Users/mukund/Downloads/amex-activity.csv\")"
   ]
  },
  {
   "cell_type": "code",
   "execution_count": 5,
   "metadata": {},
   "outputs": [],
   "source": [
    "cr.read_expenses()"
   ]
  },
  {
   "cell_type": "code",
   "execution_count": 6,
   "metadata": {},
   "outputs": [
    {
     "data": {
      "text/html": [
       "<div>\n",
       "<style scoped>\n",
       "    .dataframe tbody tr th:only-of-type {\n",
       "        vertical-align: middle;\n",
       "    }\n",
       "\n",
       "    .dataframe tbody tr th {\n",
       "        vertical-align: top;\n",
       "    }\n",
       "\n",
       "    .dataframe thead th {\n",
       "        text-align: right;\n",
       "    }\n",
       "</style>\n",
       "<table border=\"1\" class=\"dataframe\">\n",
       "  <thead>\n",
       "    <tr style=\"text-align: right;\">\n",
       "      <th></th>\n",
       "      <th>amount</th>\n",
       "      <th>category</th>\n",
       "      <th>date</th>\n",
       "      <th>description</th>\n",
       "      <th>source</th>\n",
       "    </tr>\n",
       "  </thead>\n",
       "  <tbody>\n",
       "    <tr>\n",
       "      <th>0</th>\n",
       "      <td>14.69</td>\n",
       "      <td>Groceries</td>\n",
       "      <td>2020-03-28T00:00:00</td>\n",
       "      <td>BFRESH 2420</td>\n",
       "      <td>amex</td>\n",
       "    </tr>\n",
       "    <tr>\n",
       "      <th>1</th>\n",
       "      <td>159.38</td>\n",
       "      <td>Groceries</td>\n",
       "      <td>2020-03-27T00:00:00</td>\n",
       "      <td>Trader Joe's</td>\n",
       "      <td>amex</td>\n",
       "    </tr>\n",
       "    <tr>\n",
       "      <th>2</th>\n",
       "      <td>50.84</td>\n",
       "      <td>Groceries</td>\n",
       "      <td>2020-03-24T00:00:00</td>\n",
       "      <td>NEW RELIABLE MARKET</td>\n",
       "      <td>amex</td>\n",
       "    </tr>\n",
       "    <tr>\n",
       "      <th>3</th>\n",
       "      <td>188.19</td>\n",
       "      <td>Groceries</td>\n",
       "      <td>2020-03-21T00:00:00</td>\n",
       "      <td>Trader Joe's</td>\n",
       "      <td>amex</td>\n",
       "    </tr>\n",
       "    <tr>\n",
       "      <th>4</th>\n",
       "      <td>-10.94</td>\n",
       "      <td>None</td>\n",
       "      <td>2020-03-21T00:00:00</td>\n",
       "      <td>WALGREENS #18091 000SOMERVILLE          MA</td>\n",
       "      <td>amex</td>\n",
       "    </tr>\n",
       "    <tr>\n",
       "      <th>5</th>\n",
       "      <td>10.94</td>\n",
       "      <td>None</td>\n",
       "      <td>2020-03-21T00:00:00</td>\n",
       "      <td>WALGREENS 18091</td>\n",
       "      <td>amex</td>\n",
       "    </tr>\n",
       "    <tr>\n",
       "      <th>6</th>\n",
       "      <td>29.99</td>\n",
       "      <td>None</td>\n",
       "      <td>2020-03-19T00:00:00</td>\n",
       "      <td>PP* Merchant Charge</td>\n",
       "      <td>amex</td>\n",
       "    </tr>\n",
       "    <tr>\n",
       "      <th>7</th>\n",
       "      <td>-555.18</td>\n",
       "      <td>None</td>\n",
       "      <td>2020-03-18T00:00:00</td>\n",
       "      <td>ONLINE PAYMENT - THANK YOU</td>\n",
       "      <td>amex</td>\n",
       "    </tr>\n",
       "    <tr>\n",
       "      <th>8</th>\n",
       "      <td>21.46</td>\n",
       "      <td>Groceries</td>\n",
       "      <td>2020-03-15T00:00:00</td>\n",
       "      <td>STAR MARKET</td>\n",
       "      <td>amex</td>\n",
       "    </tr>\n",
       "    <tr>\n",
       "      <th>9</th>\n",
       "      <td>7.64</td>\n",
       "      <td>None</td>\n",
       "      <td>2020-03-15T00:00:00</td>\n",
       "      <td>DBA TAGS HARDWARE</td>\n",
       "      <td>amex</td>\n",
       "    </tr>\n",
       "    <tr>\n",
       "      <th>10</th>\n",
       "      <td>26.94</td>\n",
       "      <td>Groceries</td>\n",
       "      <td>2020-03-11T00:00:00</td>\n",
       "      <td>Market Basket</td>\n",
       "      <td>amex</td>\n",
       "    </tr>\n",
       "  </tbody>\n",
       "</table>\n",
       "</div>"
      ],
      "text/plain": [
       "    amount   category                 date  \\\n",
       "0    14.69  Groceries  2020-03-28T00:00:00   \n",
       "1   159.38  Groceries  2020-03-27T00:00:00   \n",
       "2    50.84  Groceries  2020-03-24T00:00:00   \n",
       "3   188.19  Groceries  2020-03-21T00:00:00   \n",
       "4   -10.94       None  2020-03-21T00:00:00   \n",
       "5    10.94       None  2020-03-21T00:00:00   \n",
       "6    29.99       None  2020-03-19T00:00:00   \n",
       "7  -555.18       None  2020-03-18T00:00:00   \n",
       "8    21.46  Groceries  2020-03-15T00:00:00   \n",
       "9     7.64       None  2020-03-15T00:00:00   \n",
       "10   26.94  Groceries  2020-03-11T00:00:00   \n",
       "\n",
       "                                   description source  \n",
       "0                                  BFRESH 2420   amex  \n",
       "1                                 Trader Joe's   amex  \n",
       "2                          NEW RELIABLE MARKET   amex  \n",
       "3                                 Trader Joe's   amex  \n",
       "4   WALGREENS #18091 000SOMERVILLE          MA   amex  \n",
       "5                              WALGREENS 18091   amex  \n",
       "6                          PP* Merchant Charge   amex  \n",
       "7                   ONLINE PAYMENT - THANK YOU   amex  \n",
       "8                                  STAR MARKET   amex  \n",
       "9                            DBA TAGS HARDWARE   amex  \n",
       "10                               Market Basket   amex  "
      ]
     },
     "execution_count": 6,
     "metadata": {},
     "output_type": "execute_result"
    }
   ],
   "source": [
    "cr.to_df()"
   ]
  },
  {
   "cell_type": "code",
   "execution_count": 7,
   "metadata": {},
   "outputs": [],
   "source": [
    "from standardize import strip_payment"
   ]
  },
  {
   "cell_type": "code",
   "execution_count": 8,
   "metadata": {},
   "outputs": [
    {
     "data": {
      "text/plain": [
       "[{'date': '2020-03-28T00:00:00',\n",
       "  'description': 'BFRESH 2420',\n",
       "  'amount': 14.69,\n",
       "  'category': 'Groceries',\n",
       "  'source': 'amex'},\n",
       " {'date': '2020-03-27T00:00:00',\n",
       "  'description': \"Trader Joe's\",\n",
       "  'amount': 159.38,\n",
       "  'category': 'Groceries',\n",
       "  'source': 'amex'},\n",
       " {'date': '2020-03-24T00:00:00',\n",
       "  'description': 'NEW RELIABLE MARKET',\n",
       "  'amount': 50.84,\n",
       "  'category': 'Groceries',\n",
       "  'source': 'amex'},\n",
       " {'date': '2020-03-21T00:00:00',\n",
       "  'description': \"Trader Joe's\",\n",
       "  'amount': 188.19,\n",
       "  'category': 'Groceries',\n",
       "  'source': 'amex'},\n",
       " {'date': '2020-03-21T00:00:00',\n",
       "  'description': 'WALGREENS #18091 000SOMERVILLE          MA',\n",
       "  'amount': -10.94,\n",
       "  'category': None,\n",
       "  'source': 'amex'},\n",
       " {'date': '2020-03-21T00:00:00',\n",
       "  'description': 'WALGREENS 18091',\n",
       "  'amount': 10.94,\n",
       "  'category': None,\n",
       "  'source': 'amex'},\n",
       " {'date': '2020-03-19T00:00:00',\n",
       "  'description': 'PP* Merchant Charge',\n",
       "  'amount': 29.99,\n",
       "  'category': None,\n",
       "  'source': 'amex'},\n",
       " {'date': '2020-03-18T00:00:00',\n",
       "  'description': 'ONLINE PAYMENT - THANK YOU',\n",
       "  'amount': -555.18,\n",
       "  'category': None,\n",
       "  'source': 'amex'},\n",
       " {'date': '2020-03-15T00:00:00',\n",
       "  'description': 'STAR MARKET',\n",
       "  'amount': 21.46,\n",
       "  'category': 'Groceries',\n",
       "  'source': 'amex'},\n",
       " {'date': '2020-03-15T00:00:00',\n",
       "  'description': 'DBA TAGS HARDWARE',\n",
       "  'amount': 7.64,\n",
       "  'category': None,\n",
       "  'source': 'amex'},\n",
       " {'date': '2020-03-11T00:00:00',\n",
       "  'description': 'Market Basket',\n",
       "  'amount': 26.94,\n",
       "  'category': 'Groceries',\n",
       "  'source': 'amex'}]"
      ]
     },
     "execution_count": 8,
     "metadata": {},
     "output_type": "execute_result"
    }
   ],
   "source": [
    "cr.records"
   ]
  },
  {
   "cell_type": "code",
   "execution_count": 9,
   "metadata": {},
   "outputs": [
    {
     "data": {
      "image/png": "[encoded data removed]",
      "text/plain": [
       "<Figure size 432x288 with 1 Axes>"
      ]
     },
     "metadata": {
      "needs_background": "light"
     },
     "output_type": "display_data"
    }
   ],
   "source": [
    "cr.plot_categories()"
   ]
  },
  {
   "cell_type": "code",
   "execution_count": 10,
   "metadata": {},
   "outputs": [],
   "source": [
    "cr1 = CardRecord(\"/Users/mukund/Downloads/amex-1yr.csv\")"
   ]
  },
  {
   "cell_type": "code",
   "execution_count": 11,
   "metadata": {},
   "outputs": [],
   "source": [
    "cr1.read_expenses()\n"
   ]
  },
  {
   "cell_type": "code",
   "execution_count": 12,
   "metadata": {},
   "outputs": [
    {
     "data": {
      "image/png": "[encoded data removed]",
      "text/plain": [
       "<Figure size 432x288 with 1 Axes>"
      ]
     },
     "metadata": {
      "needs_background": "light"
     },
     "output_type": "display_data"
    }
   ],
   "source": [
    "cr1.plot_categories()"
   ]
  },
  {
   "cell_type": "code",
   "execution_count": 13,
   "metadata": {},
   "outputs": [
    {
     "ename": "ValueError",
     "evalue": "Invalid frequency: ",
     "output_type": "error",
     "traceback": [
      "\u001b[0;31m---------------------------------------------------------------------------\u001b[0m",
      "\u001b[0;31mValueError\u001b[0m                                Traceback (most recent call last)",
      "\u001b[0;32m<ipython-input-13-3522b15e2bfb>\u001b[0m in \u001b[0;36m<module>\u001b[0;34m\u001b[0m\n\u001b[0;32m----> 1\u001b[0;31m \u001b[0mcr1\u001b[0m\u001b[0;34m.\u001b[0m\u001b[0mplot_over_time\u001b[0m\u001b[0;34m(\u001b[0m\u001b[0mfreq\u001b[0m\u001b[0;34m=\u001b[0m\u001b[0;34m''\u001b[0m\u001b[0;34m)\u001b[0m \u001b[0;31m# TODO: sanitize legend\u001b[0m\u001b[0;34m\u001b[0m\u001b[0;34m\u001b[0m\u001b[0m\n\u001b[0m",
      "\u001b[0;32m~/projects/expenses/src/record.py\u001b[0m in \u001b[0;36mplot_over_time\u001b[0;34m(self, freq, stacked)\u001b[0m\n\u001b[1;32m     39\u001b[0m         \u001b[0mrecords_df\u001b[0m\u001b[0;34m.\u001b[0m\u001b[0mindex\u001b[0m \u001b[0;34m=\u001b[0m \u001b[0mpd\u001b[0m\u001b[0;34m.\u001b[0m\u001b[0mto_datetime\u001b[0m\u001b[0;34m(\u001b[0m\u001b[0mrecords_df\u001b[0m\u001b[0;34m[\u001b[0m\u001b[0;34m\"date\"\u001b[0m\u001b[0;34m]\u001b[0m\u001b[0;34m)\u001b[0m\u001b[0;34m\u001b[0m\u001b[0;34m\u001b[0m\u001b[0m\n\u001b[1;32m     40\u001b[0m         records_df.groupby(\n\u001b[0;32m---> 41\u001b[0;31m             \u001b[0;34m[\u001b[0m\u001b[0mpd\u001b[0m\u001b[0;34m.\u001b[0m\u001b[0mGrouper\u001b[0m\u001b[0;34m(\u001b[0m\u001b[0mfreq\u001b[0m\u001b[0;34m=\u001b[0m\u001b[0mfreq\u001b[0m\u001b[0;34m)\u001b[0m\u001b[0;34m,\u001b[0m \u001b[0;34m\"category\"\u001b[0m\u001b[0;34m]\u001b[0m\u001b[0;34m\u001b[0m\u001b[0;34m\u001b[0m\u001b[0m\n\u001b[0m\u001b[1;32m     42\u001b[0m         \u001b[0;34m)\u001b[0m\u001b[0;34m.\u001b[0m\u001b[0msum\u001b[0m\u001b[0;34m(\u001b[0m\u001b[0;34m)\u001b[0m\u001b[0;34m.\u001b[0m\u001b[0mreset_index\u001b[0m\u001b[0;34m(\u001b[0m\u001b[0;34m)\u001b[0m\u001b[0;34m.\u001b[0m\u001b[0mpivot\u001b[0m\u001b[0;34m(\u001b[0m\u001b[0mindex\u001b[0m\u001b[0;34m=\u001b[0m\u001b[0;34m\"date\"\u001b[0m\u001b[0;34m,\u001b[0m \u001b[0mcolumns\u001b[0m\u001b[0;34m=\u001b[0m\u001b[0;34m\"category\"\u001b[0m\u001b[0;34m)\u001b[0m\u001b[0;34m.\u001b[0m\u001b[0mplot\u001b[0m\u001b[0;34m(\u001b[0m\u001b[0;34m\u001b[0m\u001b[0;34m\u001b[0m\u001b[0m\n\u001b[1;32m     43\u001b[0m             \u001b[0mkind\u001b[0m\u001b[0;34m=\u001b[0m\u001b[0;34m\"bar\"\u001b[0m\u001b[0;34m,\u001b[0m \u001b[0mstacked\u001b[0m\u001b[0;34m=\u001b[0m\u001b[0mstacked\u001b[0m\u001b[0;34m\u001b[0m\u001b[0;34m\u001b[0m\u001b[0m\n",
      "\u001b[0;32m/usr/local/lib/python3.7/site-packages/pandas/core/resample.py\u001b[0m in \u001b[0;36m__init__\u001b[0;34m(self, freq, closed, label, how, axis, fill_method, limit, loffset, kind, convention, base, **kwargs)\u001b[0m\n\u001b[1;32m   1302\u001b[0m                              .format(convention))\n\u001b[1;32m   1303\u001b[0m \u001b[0;34m\u001b[0m\u001b[0m\n\u001b[0;32m-> 1304\u001b[0;31m         \u001b[0mfreq\u001b[0m \u001b[0;34m=\u001b[0m \u001b[0mto_offset\u001b[0m\u001b[0;34m(\u001b[0m\u001b[0mfreq\u001b[0m\u001b[0;34m)\u001b[0m\u001b[0;34m\u001b[0m\u001b[0;34m\u001b[0m\u001b[0m\n\u001b[0m\u001b[1;32m   1305\u001b[0m \u001b[0;34m\u001b[0m\u001b[0m\n\u001b[1;32m   1306\u001b[0m         \u001b[0mend_types\u001b[0m \u001b[0;34m=\u001b[0m \u001b[0;34m{\u001b[0m\u001b[0;34m'M'\u001b[0m\u001b[0;34m,\u001b[0m \u001b[0;34m'A'\u001b[0m\u001b[0;34m,\u001b[0m \u001b[0;34m'Q'\u001b[0m\u001b[0;34m,\u001b[0m \u001b[0;34m'BM'\u001b[0m\u001b[0;34m,\u001b[0m \u001b[0;34m'BA'\u001b[0m\u001b[0;34m,\u001b[0m \u001b[0;34m'BQ'\u001b[0m\u001b[0;34m,\u001b[0m \u001b[0;34m'W'\u001b[0m\u001b[0;34m}\u001b[0m\u001b[0;34m\u001b[0m\u001b[0;34m\u001b[0m\u001b[0m\n",
      "\u001b[0;32m/usr/local/lib/python3.7/site-packages/pandas/tseries/frequencies.py\u001b[0m in \u001b[0;36mto_offset\u001b[0;34m(freq)\u001b[0m\n\u001b[1;32m    162\u001b[0m \u001b[0;34m\u001b[0m\u001b[0m\n\u001b[1;32m    163\u001b[0m     \u001b[0;32mif\u001b[0m \u001b[0mdelta\u001b[0m \u001b[0;32mis\u001b[0m \u001b[0;32mNone\u001b[0m\u001b[0;34m:\u001b[0m\u001b[0;34m\u001b[0m\u001b[0;34m\u001b[0m\u001b[0m\n\u001b[0;32m--> 164\u001b[0;31m         \u001b[0;32mraise\u001b[0m \u001b[0mValueError\u001b[0m\u001b[0;34m(\u001b[0m\u001b[0mlibfreqs\u001b[0m\u001b[0;34m.\u001b[0m\u001b[0mINVALID_FREQ_ERR_MSG\u001b[0m\u001b[0;34m.\u001b[0m\u001b[0mformat\u001b[0m\u001b[0;34m(\u001b[0m\u001b[0mfreq\u001b[0m\u001b[0;34m)\u001b[0m\u001b[0;34m)\u001b[0m\u001b[0;34m\u001b[0m\u001b[0;34m\u001b[0m\u001b[0m\n\u001b[0m\u001b[1;32m    165\u001b[0m \u001b[0;34m\u001b[0m\u001b[0m\n\u001b[1;32m    166\u001b[0m     \u001b[0;32mreturn\u001b[0m \u001b[0mdelta\u001b[0m\u001b[0;34m\u001b[0m\u001b[0;34m\u001b[0m\u001b[0m\n",
      "\u001b[0;31mValueError\u001b[0m: Invalid frequency: "
     ]
    }
   ],
   "source": [
    "cr1.plot_over_time(freq='') # TODO: sanitize legend"
   ]
  },
  {
   "cell_type": "code",
   "execution_count": null,
   "metadata": {},
   "outputs": [],
   "source": [
    "df = cr1.to_df()\n",
    "df.loc[df['description'].isin(['LYFT', 'UBER']), 'category'] = 'Rideshare'"
   ]
  },
  {
   "cell_type": "code",
   "execution_count": null,
   "metadata": {},
   "outputs": [],
   "source": [
    "df.to_json()"
   ]
  }
 ],
 "metadata": {
  "kernelspec": {
   "display_name": "Python 3",
   "language": "python",
   "name": "python3"
  },
  "language_info": {
   "codemirror_mode": {
    "name": "ipython",
    "version": 3
   },
   "file_extension": ".py",
   "mimetype": "text/x-python",
   "name": "python",
   "nbconvert_exporter": "python",
   "pygments_lexer": "ipython3",
   "version": "3.7.7"
  }
 },
 "nbformat": 4,
 "nbformat_minor": 4
}
